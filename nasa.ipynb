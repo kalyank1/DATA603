{
 "cells": [
  {
   "cell_type": "code",
   "execution_count": null,
   "id": "064eaaad",
   "metadata": {},
   "outputs": [],
   "source": [
    "# ! pip install flask requests flask_ngrok ipython"
   ]
  },
  {
   "cell_type": "code",
   "execution_count": 1,
   "id": "c1218074",
   "metadata": {},
   "outputs": [],
   "source": [
    "import time\n",
    "import requests\n",
    "from flask import Flask, render_template_string\n",
    "from IPython.display import display, HTML\n",
    "from flask_ngrok import run_with_ngrok\n",
    "from flask import Flask, render_template_string"
   ]
  },
  {
   "cell_type": "code",
   "execution_count": null,
   "id": "fad74204",
   "metadata": {},
   "outputs": [
    {
     "name": "stdout",
     "output_type": "stream",
     "text": [
      " * Serving Flask app '__main__'\n",
      " * Debug mode: off\n"
     ]
    },
    {
     "name": "stderr",
     "output_type": "stream",
     "text": [
      "WARNING: This is a development server. Do not use it in a production deployment. Use a production WSGI server instead.\n",
      " * Running on http://127.0.0.1:5000\n",
      "Press CTRL+C to quit\n"
     ]
    },
    {
     "name": "stdout",
     "output_type": "stream",
     "text": [
      " * Running on http://19e1-43-250-158-29.ngrok.io\n",
      " * Traffic stats available on http://127.0.0.1:4040\n"
     ]
    },
    {
     "name": "stderr",
     "output_type": "stream",
     "text": [
      "127.0.0.1 - - [14/Apr/2023 04:14:40] \"GET / HTTP/1.1\" 200 -\n"
     ]
    },
    {
     "data": {
      "text/html": [
       "Latitude: -18.3607, Longitude: -60.9117"
      ],
      "text/plain": [
       "<IPython.core.display.HTML object>"
      ]
     },
     "metadata": {},
     "output_type": "display_data"
    },
    {
     "name": "stderr",
     "output_type": "stream",
     "text": [
      "127.0.0.1 - - [14/Apr/2023 04:14:40] \"GET /coordinates HTTP/1.1\" 200 -\n"
     ]
    },
    {
     "data": {
      "text/html": [
       "Latitude: -18.6543, Longitude: -60.6688"
      ],
      "text/plain": [
       "<IPython.core.display.HTML object>"
      ]
     },
     "metadata": {},
     "output_type": "display_data"
    },
    {
     "name": "stderr",
     "output_type": "stream",
     "text": [
      "127.0.0.1 - - [14/Apr/2023 04:14:46] \"GET /coordinates HTTP/1.1\" 200 -\n"
     ]
    },
    {
     "data": {
      "text/html": [
       "Latitude: -18.8988, Longitude: -60.4658"
      ],
      "text/plain": [
       "<IPython.core.display.HTML object>"
      ]
     },
     "metadata": {},
     "output_type": "display_data"
    },
    {
     "name": "stderr",
     "output_type": "stream",
     "text": [
      "127.0.0.1 - - [14/Apr/2023 04:14:51] \"GET /coordinates HTTP/1.1\" 200 -\n"
     ]
    },
    {
     "data": {
      "text/html": [
       "Latitude: -19.0942, Longitude: -60.3028"
      ],
      "text/plain": [
       "<IPython.core.display.HTML object>"
      ]
     },
     "metadata": {},
     "output_type": "display_data"
    },
    {
     "name": "stderr",
     "output_type": "stream",
     "text": [
      "127.0.0.1 - - [14/Apr/2023 04:14:55] \"GET /coordinates HTTP/1.1\" 200 -\n"
     ]
    },
    {
     "data": {
      "text/html": [
       "Latitude: -19.3869, Longitude: -60.0577"
      ],
      "text/plain": [
       "<IPython.core.display.HTML object>"
      ]
     },
     "metadata": {},
     "output_type": "display_data"
    },
    {
     "name": "stderr",
     "output_type": "stream",
     "text": [
      "127.0.0.1 - - [14/Apr/2023 04:15:01] \"GET /coordinates HTTP/1.1\" 200 -\n"
     ]
    },
    {
     "data": {
      "text/html": [
       "Latitude: -19.6305, Longitude: -59.8526"
      ],
      "text/plain": [
       "<IPython.core.display.HTML object>"
      ]
     },
     "metadata": {},
     "output_type": "display_data"
    },
    {
     "name": "stderr",
     "output_type": "stream",
     "text": [
      "127.0.0.1 - - [14/Apr/2023 04:15:06] \"GET /coordinates HTTP/1.1\" 200 -\n"
     ]
    },
    {
     "data": {
      "text/html": [
       "Latitude: -19.8738, Longitude: -59.6469"
      ],
      "text/plain": [
       "<IPython.core.display.HTML object>"
      ]
     },
     "metadata": {},
     "output_type": "display_data"
    },
    {
     "name": "stderr",
     "output_type": "stream",
     "text": [
      "127.0.0.1 - - [14/Apr/2023 04:15:11] \"GET /coordinates HTTP/1.1\" 200 -\n"
     ]
    },
    {
     "data": {
      "text/html": [
       "Latitude: -20.1168, Longitude: -59.4405"
      ],
      "text/plain": [
       "<IPython.core.display.HTML object>"
      ]
     },
     "metadata": {},
     "output_type": "display_data"
    },
    {
     "name": "stderr",
     "output_type": "stream",
     "text": [
      "127.0.0.1 - - [14/Apr/2023 04:15:16] \"GET /coordinates HTTP/1.1\" 200 -\n"
     ]
    },
    {
     "data": {
      "text/html": [
       "Latitude: -20.3595, Longitude: -59.2333"
      ],
      "text/plain": [
       "<IPython.core.display.HTML object>"
      ]
     },
     "metadata": {},
     "output_type": "display_data"
    },
    {
     "name": "stderr",
     "output_type": "stream",
     "text": [
      "127.0.0.1 - - [14/Apr/2023 04:15:21] \"GET /coordinates HTTP/1.1\" 200 -\n"
     ]
    },
    {
     "data": {
      "text/html": [
       "Latitude: -20.602, Longitude: -59.0255"
      ],
      "text/plain": [
       "<IPython.core.display.HTML object>"
      ]
     },
     "metadata": {},
     "output_type": "display_data"
    },
    {
     "name": "stderr",
     "output_type": "stream",
     "text": [
      "127.0.0.1 - - [14/Apr/2023 04:15:26] \"GET /coordinates HTTP/1.1\" 200 -\n"
     ]
    },
    {
     "data": {
      "text/html": [
       "Latitude: -20.8441, Longitude: -58.8169"
      ],
      "text/plain": [
       "<IPython.core.display.HTML object>"
      ]
     },
     "metadata": {},
     "output_type": "display_data"
    },
    {
     "name": "stderr",
     "output_type": "stream",
     "text": [
      "127.0.0.1 - - [14/Apr/2023 04:15:31] \"GET /coordinates HTTP/1.1\" 200 -\n"
     ]
    },
    {
     "data": {
      "text/html": [
       "Latitude: -21.0859, Longitude: -58.6076"
      ],
      "text/plain": [
       "<IPython.core.display.HTML object>"
      ]
     },
     "metadata": {},
     "output_type": "display_data"
    },
    {
     "name": "stderr",
     "output_type": "stream",
     "text": [
      "127.0.0.1 - - [14/Apr/2023 04:15:36] \"GET /coordinates HTTP/1.1\" 200 -\n"
     ]
    },
    {
     "data": {
      "text/html": [
       "Latitude: -21.2792, Longitude: -58.4396"
      ],
      "text/plain": [
       "<IPython.core.display.HTML object>"
      ]
     },
     "metadata": {},
     "output_type": "display_data"
    },
    {
     "name": "stderr",
     "output_type": "stream",
     "text": [
      "127.0.0.1 - - [14/Apr/2023 04:15:40] \"GET /coordinates HTTP/1.1\" 200 -\n"
     ]
    },
    {
     "data": {
      "text/html": [
       "Latitude: -21.5204, Longitude: -58.2289"
      ],
      "text/plain": [
       "<IPython.core.display.HTML object>"
      ]
     },
     "metadata": {},
     "output_type": "display_data"
    },
    {
     "name": "stderr",
     "output_type": "stream",
     "text": [
      "127.0.0.1 - - [14/Apr/2023 04:15:45] \"GET /coordinates HTTP/1.1\" 200 -\n"
     ]
    }
   ],
   "source": [
    "app = Flask(__name__)\n",
    "run_with_ngrok(app)\n",
    "\n",
    "def fetch_satellite_data():\n",
    "    url = \"http://api.open-notify.org/iss-now.json\"\n",
    "    response = requests.get(url)\n",
    "    data = response.json()\n",
    "    return data\n",
    "\n",
    "@app.route('/')\n",
    "def index():\n",
    "    return render_template_string('''\n",
    "        <html>\n",
    "        <head>\n",
    "            <title>Real-time ISS Tracker</title>\n",
    "            <link rel=\"stylesheet\" href=\"https://unpkg.com/leaflet@1.7.1/dist/leaflet.css\" integrity=\"sha512-xodZBNTC5n17Xt2atTPuE1HxjVMSvLVW9ocqUKLsCC5CXdbqCmblAshOMAS6/keqq/sMZMZ19scR4PsZChSR7A==\" crossorigin=\"\"/>\n",
    "            <script src=\"https://unpkg.com/leaflet@1.7.1/dist/leaflet.js\" integrity=\"sha512-XQoYMqMTK8LvdxXYG3nZ448hOEQiglfqkJs1NOQV44cWnUrBc8PkAOcXy20w0vlaXaVUearIOBhiXZ5V3ynxwA==\" crossorigin=\"\"></script>\n",
    "            <script src=\"https://code.jquery.com/jquery-3.6.0.min.js\"></script>\n",
    "            <style>\n",
    "                #map { height: 500px; }\n",
    "            </style>\n",
    "            <script>\n",
    "$(document).ready(function() {\n",
    "    var map = L.map('map').setView([0, 0], 2);\n",
    "    L.tileLayer('https://{s}.tile.openstreetmap.org/{z}/{x}/{y}.png', {\n",
    "        attribution: '&copy; <a href=\"https://www.openstreetmap.org/copyright\">OpenStreetMap</a> contributors'\n",
    "    }).addTo(map);\n",
    "    var issIcon = L.icon({\n",
    "        iconUrl: 'https://upload.wikimedia.org/wikipedia/commons/d/d0/International_Space_Station.svg',\n",
    "        iconSize: [50, 32],\n",
    "        iconAnchor: [25, 16]\n",
    "    });\n",
    "    var issMarker = L.marker([0, 0], {icon: issIcon}).addTo(map);\n",
    "\n",
    "    // Add polyline for ISS path\n",
    "    var issPath = [];\n",
    "    var issPolyline = L.polyline(issPath, {color: 'red'}).addTo(map);\n",
    "\n",
    "    function update_coordinates() {\n",
    "        $.getJSON(\"/coordinates\", function(data) {\n",
    "            var lat = data.latitude;\n",
    "            var lon = data.longitude;\n",
    "            issMarker.setLatLng([lat, lon]);\n",
    "            map.panTo([lat, lon]);\n",
    "\n",
    "            // Update ISS path\n",
    "            issPath.push([lat, lon]);\n",
    "            issPolyline.setLatLngs(issPath);\n",
    "        });\n",
    "    }\n",
    "    setInterval(update_coordinates, 5000);\n",
    "    update_coordinates();\n",
    "});\n",
    "            </script>\n",
    "        </head>\n",
    "        <body>\n",
    "            <h1>Real-time ISS Tracker</h1>\n",
    "            <div id=\"map\"></div>\n",
    "        </body>\n",
    "    </html>\n",
    "''')\n",
    "\n",
    "@app.route('/coordinates')\n",
    "def coordinates():\n",
    "    data = fetch_satellite_data()\n",
    "    position = data[\"iss_position\"]\n",
    "    latitude = float(position[\"latitude\"])\n",
    "    longitude = float(position[\"longitude\"])\n",
    "    html = f\"Latitude: {latitude}, Longitude: {longitude}\"\n",
    "    display(HTML(html))    \n",
    "    return {\"latitude\": latitude, \"longitude\": longitude}\n",
    "\n",
    "if __name__ == '__main__':\n",
    "    app.run()"
   ]
  },
  {
   "cell_type": "markdown",
   "id": "4cd2618c",
   "metadata": {},
   "source": [
    "<img src=\"webui.png\">"
   ]
  },
  {
   "cell_type": "code",
   "execution_count": null,
   "id": "6fe0e05b",
   "metadata": {},
   "outputs": [],
   "source": []
  }
 ],
 "metadata": {
  "kernelspec": {
   "display_name": "Python 3 (ipykernel)",
   "language": "python",
   "name": "python3"
  },
  "language_info": {
   "codemirror_mode": {
    "name": "ipython",
    "version": 3
   },
   "file_extension": ".py",
   "mimetype": "text/x-python",
   "name": "python",
   "nbconvert_exporter": "python",
   "pygments_lexer": "ipython3",
   "version": "3.11.3"
  }
 },
 "nbformat": 4,
 "nbformat_minor": 5
}
